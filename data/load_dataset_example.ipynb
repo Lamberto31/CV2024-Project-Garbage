{
 "cells": [
  {
   "cell_type": "markdown",
   "metadata": {},
   "source": [
    "# Example of loading a dataset using the CustomImageDataset class"
   ]
  },
  {
   "cell_type": "markdown",
   "metadata": {},
   "source": [
    "## Libraries import"
   ]
  },
  {
   "cell_type": "code",
   "execution_count": null,
   "metadata": {},
   "outputs": [],
   "source": [
    "import torchvision.transforms as T\n",
    "from CustomDataset import CustomImageDataset\n",
    "import torch.utils.data as data"
   ]
  },
  {
   "cell_type": "markdown",
   "metadata": {},
   "source": [
    "## Parameters"
   ]
  },
  {
   "cell_type": "code",
   "execution_count": null,
   "metadata": {},
   "outputs": [],
   "source": [
    "# Directory of the dataset\n",
    "dataset_dir = '../dataset/clean_road/images'\n",
    "\n",
    "# Directory and file name of the labels\n",
    "label_dir = '../dataset/clean_road'\n",
    "label_file = label_dir+'/metadata.csv'\n",
    "\n",
    "# Custom transformation\n",
    "#transform = T.Resize((256,256))\n",
    "transform = T.Compose([T.ToTensor(),])\n",
    "\n",
    "# Additional parameters for Dataloader\n",
    "batch_size = 4\n",
    "num_workers = 2"
   ]
  },
  {
   "cell_type": "markdown",
   "metadata": {},
   "source": [
    "## Create dataset and load with Dataloader"
   ]
  },
  {
   "cell_type": "code",
   "execution_count": null,
   "metadata": {},
   "outputs": [],
   "source": [
    "# Create dataset using CustomImageDataset\n",
    "dataset = CustomImageDataset(label_file, dataset_dir, transform, use_cv2=True)\n",
    "print(len(dataset))\n",
    "\n",
    "# Load the dataset using DataLoader\n",
    "data_batch = data.DataLoader(dataset, batch_size = batch_size, shuffle=True, num_workers=num_workers, drop_last=False)\n",
    "print(len(data_batch))"
   ]
  },
  {
   "cell_type": "markdown",
   "metadata": {},
   "source": [
    "## Inspect dataset"
   ]
  },
  {
   "cell_type": "code",
   "execution_count": null,
   "metadata": {},
   "outputs": [],
   "source": [
    "# Show the first n_batches\n",
    "n_batches = 3\n",
    "\n",
    "for j, (imgs, labels) in enumerate(data_batch):\n",
    "  if j == n_batches:\n",
    "    break\n",
    "  print(imgs[\"name\"])\n",
    "  print(imgs[\"file\"].shape[0])\n",
    "  print(labels.shape)\n",
    "  print(labels)"
   ]
  }
 ],
 "metadata": {
  "kernelspec": {
   "display_name": "cv",
   "language": "python",
   "name": "python3"
  },
  "language_info": {
   "codemirror_mode": {
    "name": "ipython",
    "version": 3
   },
   "file_extension": ".py",
   "mimetype": "text/x-python",
   "name": "python",
   "nbconvert_exporter": "python",
   "pygments_lexer": "ipython3",
   "version": "3.10.14"
  }
 },
 "nbformat": 4,
 "nbformat_minor": 2
}
